{
 "cells": [
  {
   "cell_type": "code",
   "execution_count": 4,
   "metadata": {},
   "outputs": [
    {
     "name": "stdout",
     "output_type": "stream",
     "text": [
      "                               Open      High       Low     Close      Volume  \\\n",
      "Date                                                                            \n",
      "1986-03-13 00:00:00-05:00  0.054485  0.062498  0.054485  0.059827  1031788800   \n",
      "1986-03-14 00:00:00-05:00  0.059827  0.063032  0.059827  0.061963   308160000   \n",
      "1986-03-17 00:00:00-05:00  0.061963  0.063566  0.061963  0.063032   133171200   \n",
      "1986-03-18 00:00:00-05:00  0.063032  0.063566  0.060895  0.061429    67766400   \n",
      "1986-03-19 00:00:00-05:00  0.061429  0.061963  0.059827  0.060361    47894400   \n",
      "\n",
      "                           Dividends  Stock Splits  \n",
      "Date                                                \n",
      "1986-03-13 00:00:00-05:00        0.0           0.0  \n",
      "1986-03-14 00:00:00-05:00        0.0           0.0  \n",
      "1986-03-17 00:00:00-05:00        0.0           0.0  \n",
      "1986-03-18 00:00:00-05:00        0.0           0.0  \n",
      "1986-03-19 00:00:00-05:00        0.0           0.0  \n"
     ]
    }
   ],
   "source": [
    "import yfinance as yf\n",
    "import pandas as pd\n",
    "\n",
    "dat = yf.Ticker(\"MSFT\")\n",
    "\n",
    "# Get historical market data\n",
    "df = dat.history(period=\"max\")  # Fetch all available data\n",
    "\n",
    "# Display full dataset snapshot\n",
    "print(df.head())  # Shows first 5 rows\n",
    "#print(df.info())  # Gives an overview of the dataset"
   ]
  },
  {
   "cell_type": "code",
   "execution_count": 10,
   "metadata": {},
   "outputs": [
    {
     "name": "stdout",
     "output_type": "stream",
     "text": [
      "            address1     city state         zip        country         phone  \\\n",
      "0  One Microsoft Way  Redmond    WA  98052-6399  United States  425 882 8080   \n",
      "\n",
      "                     website                   industry  \\\n",
      "0  https://www.microsoft.com  Software - Infrastructure   \n",
      "\n",
      "               industryKey               industryDisp  ...  grossProfits  \\\n",
      "0  software-infrastructure  Software - Infrastructure  ...  176278994944   \n",
      "\n",
      "  freeCashflow operatingCashflow earningsGrowth  revenueGrowth grossMargins  \\\n",
      "0  61280874496      122144997376          0.104           0.16      0.69349   \n",
      "\n",
      "   ebitdaMargins  operatingMargins  financialCurrency  trailingPegRatio  \n",
      "0         0.5372           0.46584                USD            2.2191  \n",
      "\n",
      "[1 rows x 130 columns]\n",
      "Index(['address1', 'city', 'state', 'zip', 'country', 'phone', 'website',\n",
      "       'industry', 'industryKey', 'industryDisp',\n",
      "       ...\n",
      "       'grossProfits', 'freeCashflow', 'operatingCashflow', 'earningsGrowth',\n",
      "       'revenueGrowth', 'grossMargins', 'ebitdaMargins', 'operatingMargins',\n",
      "       'financialCurrency', 'trailingPegRatio'],\n",
      "      dtype='object', length=130)\n"
     ]
    }
   ],
   "source": [
    "import yfinance as yf\n",
    "import pandas as pd\n",
    "\n",
    "# Fetch stock data\n",
    "dat = yf.Ticker(\"MSFT\")\n",
    "\n",
    "# Extract company info (metadata)\n",
    "info = dat.info  \n",
    "\n",
    "# Convert dictionary to a DataFrame\n",
    "df = pd.DataFrame([info])  \n",
    "\n",
    "# Display snapshot\n",
    "print(df.head())  # Shows first few rows\n",
    "print(df.columns)  # Shows available data fields\n"
   ]
  },
  {
   "cell_type": "code",
   "execution_count": 15,
   "metadata": {},
   "outputs": [
    {
     "data": {
      "text/html": [
       "<div>\n",
       "<style scoped>\n",
       "    .dataframe tbody tr th:only-of-type {\n",
       "        vertical-align: middle;\n",
       "    }\n",
       "\n",
       "    .dataframe tbody tr th {\n",
       "        vertical-align: top;\n",
       "    }\n",
       "\n",
       "    .dataframe thead th {\n",
       "        text-align: right;\n",
       "    }\n",
       "</style>\n",
       "<table border=\"1\" class=\"dataframe\">\n",
       "  <thead>\n",
       "    <tr style=\"text-align: right;\">\n",
       "      <th></th>\n",
       "      <th>address1</th>\n",
       "      <th>city</th>\n",
       "      <th>state</th>\n",
       "      <th>zip</th>\n",
       "      <th>country</th>\n",
       "      <th>phone</th>\n",
       "      <th>website</th>\n",
       "      <th>industry</th>\n",
       "      <th>industryKey</th>\n",
       "      <th>industryDisp</th>\n",
       "      <th>...</th>\n",
       "      <th>grossProfits</th>\n",
       "      <th>freeCashflow</th>\n",
       "      <th>operatingCashflow</th>\n",
       "      <th>earningsGrowth</th>\n",
       "      <th>revenueGrowth</th>\n",
       "      <th>grossMargins</th>\n",
       "      <th>ebitdaMargins</th>\n",
       "      <th>operatingMargins</th>\n",
       "      <th>financialCurrency</th>\n",
       "      <th>trailingPegRatio</th>\n",
       "    </tr>\n",
       "  </thead>\n",
       "  <tbody>\n",
       "    <tr>\n",
       "      <th>0</th>\n",
       "      <td>One Microsoft Way</td>\n",
       "      <td>Redmond</td>\n",
       "      <td>WA</td>\n",
       "      <td>98052-6399</td>\n",
       "      <td>United States</td>\n",
       "      <td>425 882 8080</td>\n",
       "      <td>https://www.microsoft.com</td>\n",
       "      <td>Software - Infrastructure</td>\n",
       "      <td>software-infrastructure</td>\n",
       "      <td>Software - Infrastructure</td>\n",
       "      <td>...</td>\n",
       "      <td>176278994944</td>\n",
       "      <td>61280874496</td>\n",
       "      <td>122144997376</td>\n",
       "      <td>0.104</td>\n",
       "      <td>0.16</td>\n",
       "      <td>0.69349</td>\n",
       "      <td>0.5372</td>\n",
       "      <td>0.46584</td>\n",
       "      <td>USD</td>\n",
       "      <td>2.2191</td>\n",
       "    </tr>\n",
       "  </tbody>\n",
       "</table>\n",
       "<p>1 rows × 130 columns</p>\n",
       "</div>"
      ],
      "text/plain": [
       "            address1     city state         zip        country         phone  \\\n",
       "0  One Microsoft Way  Redmond    WA  98052-6399  United States  425 882 8080   \n",
       "\n",
       "                     website                   industry  \\\n",
       "0  https://www.microsoft.com  Software - Infrastructure   \n",
       "\n",
       "               industryKey               industryDisp  ...  grossProfits  \\\n",
       "0  software-infrastructure  Software - Infrastructure  ...  176278994944   \n",
       "\n",
       "  freeCashflow operatingCashflow earningsGrowth  revenueGrowth grossMargins  \\\n",
       "0  61280874496      122144997376          0.104           0.16      0.69349   \n",
       "\n",
       "   ebitdaMargins  operatingMargins  financialCurrency  trailingPegRatio  \n",
       "0         0.5372           0.46584                USD            2.2191  \n",
       "\n",
       "[1 rows x 130 columns]"
      ]
     },
     "execution_count": 15,
     "metadata": {},
     "output_type": "execute_result"
    }
   ],
   "source": [
    "df.head()"
   ]
  },
  {
   "cell_type": "code",
   "execution_count": 16,
   "metadata": {},
   "outputs": [
    {
     "ename": "SyntaxError",
     "evalue": "invalid syntax (3418974669.py, line 1)",
     "output_type": "error",
     "traceback": [
      "\u001b[0;36m  Cell \u001b[0;32mIn[16], line 1\u001b[0;36m\u001b[0m\n\u001b[0;31m    class yfinance.Market(market: str, session=None, proxy=None, timeout=30)\u001b[0m\n\u001b[0m                  ^\u001b[0m\n\u001b[0;31mSyntaxError\u001b[0m\u001b[0;31m:\u001b[0m invalid syntax\n"
     ]
    }
   ],
   "source": [
    "class yfinance.Market(market: str, session=None, proxy=None, timeout=30)\n",
    "\n",
    "# Convert dictionary to a DataFrame\n",
    "df = pd.DataFrame([Market])  "
   ]
  },
  {
   "cell_type": "code",
   "execution_count": 18,
   "metadata": {},
   "outputs": [
    {
     "data": {
      "text/html": [
       "<div>\n",
       "<style scoped>\n",
       "    .dataframe tbody tr th:only-of-type {\n",
       "        vertical-align: middle;\n",
       "    }\n",
       "\n",
       "    .dataframe tbody tr th {\n",
       "        vertical-align: top;\n",
       "    }\n",
       "\n",
       "    .dataframe thead th {\n",
       "        text-align: right;\n",
       "    }\n",
       "</style>\n",
       "<table border=\"1\" class=\"dataframe\">\n",
       "  <thead>\n",
       "    <tr style=\"text-align: right;\">\n",
       "      <th></th>\n",
       "      <th>Open</th>\n",
       "      <th>High</th>\n",
       "      <th>Low</th>\n",
       "      <th>Close</th>\n",
       "      <th>Volume</th>\n",
       "      <th>Dividends</th>\n",
       "      <th>Stock Splits</th>\n",
       "      <th>Capital Gains</th>\n",
       "      <th>ETF</th>\n",
       "    </tr>\n",
       "    <tr>\n",
       "      <th>Date</th>\n",
       "      <th></th>\n",
       "      <th></th>\n",
       "      <th></th>\n",
       "      <th></th>\n",
       "      <th></th>\n",
       "      <th></th>\n",
       "      <th></th>\n",
       "      <th></th>\n",
       "      <th></th>\n",
       "    </tr>\n",
       "  </thead>\n",
       "  <tbody>\n",
       "    <tr>\n",
       "      <th>2020-02-03 00:00:00-05:00</th>\n",
       "      <td>299.785697</td>\n",
       "      <td>302.390915</td>\n",
       "      <td>299.665166</td>\n",
       "      <td>300.499573</td>\n",
       "      <td>69083000</td>\n",
       "      <td>0.0</td>\n",
       "      <td>0.0</td>\n",
       "      <td>0.0</td>\n",
       "      <td>SPY</td>\n",
       "    </tr>\n",
       "    <tr>\n",
       "      <th>2020-02-04 00:00:00-05:00</th>\n",
       "      <td>304.161746</td>\n",
       "      <td>305.960369</td>\n",
       "      <td>303.837246</td>\n",
       "      <td>305.079590</td>\n",
       "      <td>62573200</td>\n",
       "      <td>0.0</td>\n",
       "      <td>0.0</td>\n",
       "      <td>0.0</td>\n",
       "      <td>SPY</td>\n",
       "    </tr>\n",
       "    <tr>\n",
       "      <th>2020-02-05 00:00:00-05:00</th>\n",
       "      <td>308.055661</td>\n",
       "      <td>308.815910</td>\n",
       "      <td>306.572284</td>\n",
       "      <td>308.602661</td>\n",
       "      <td>65951100</td>\n",
       "      <td>0.0</td>\n",
       "      <td>0.0</td>\n",
       "      <td>0.0</td>\n",
       "      <td>SPY</td>\n",
       "    </tr>\n",
       "    <tr>\n",
       "      <th>2020-02-06 00:00:00-05:00</th>\n",
       "      <td>309.576116</td>\n",
       "      <td>309.835710</td>\n",
       "      <td>308.546993</td>\n",
       "      <td>309.641022</td>\n",
       "      <td>50359700</td>\n",
       "      <td>0.0</td>\n",
       "      <td>0.0</td>\n",
       "      <td>0.0</td>\n",
       "      <td>SPY</td>\n",
       "    </tr>\n",
       "    <tr>\n",
       "      <th>2020-02-07 00:00:00-05:00</th>\n",
       "      <td>308.565566</td>\n",
       "      <td>309.650286</td>\n",
       "      <td>307.434473</td>\n",
       "      <td>307.990753</td>\n",
       "      <td>64139400</td>\n",
       "      <td>0.0</td>\n",
       "      <td>0.0</td>\n",
       "      <td>0.0</td>\n",
       "      <td>SPY</td>\n",
       "    </tr>\n",
       "  </tbody>\n",
       "</table>\n",
       "</div>"
      ],
      "text/plain": [
       "                                 Open        High         Low       Close  \\\n",
       "Date                                                                        \n",
       "2020-02-03 00:00:00-05:00  299.785697  302.390915  299.665166  300.499573   \n",
       "2020-02-04 00:00:00-05:00  304.161746  305.960369  303.837246  305.079590   \n",
       "2020-02-05 00:00:00-05:00  308.055661  308.815910  306.572284  308.602661   \n",
       "2020-02-06 00:00:00-05:00  309.576116  309.835710  308.546993  309.641022   \n",
       "2020-02-07 00:00:00-05:00  308.565566  309.650286  307.434473  307.990753   \n",
       "\n",
       "                             Volume  Dividends  Stock Splits  Capital Gains  \\\n",
       "Date                                                                          \n",
       "2020-02-03 00:00:00-05:00  69083000        0.0           0.0            0.0   \n",
       "2020-02-04 00:00:00-05:00  62573200        0.0           0.0            0.0   \n",
       "2020-02-05 00:00:00-05:00  65951100        0.0           0.0            0.0   \n",
       "2020-02-06 00:00:00-05:00  50359700        0.0           0.0            0.0   \n",
       "2020-02-07 00:00:00-05:00  64139400        0.0           0.0            0.0   \n",
       "\n",
       "                           ETF  \n",
       "Date                            \n",
       "2020-02-03 00:00:00-05:00  SPY  \n",
       "2020-02-04 00:00:00-05:00  SPY  \n",
       "2020-02-05 00:00:00-05:00  SPY  \n",
       "2020-02-06 00:00:00-05:00  SPY  \n",
       "2020-02-07 00:00:00-05:00  SPY  "
      ]
     },
     "execution_count": 18,
     "metadata": {},
     "output_type": "execute_result"
    }
   ],
   "source": [
    "etfs = [\"SPY\", \"QQQ\", \"DIA\", \"VTI\"]  # S&P 500, NASDAQ, Dow, Total Market\n",
    "df_list = []\n",
    "\n",
    "for etf in etfs:\n",
    "    etf_data = yf.Ticker(etf).history(period=\"5y\")\n",
    "    etf_data[\"ETF\"] = etf\n",
    "    df_list.append(etf_data)\n",
    "\n",
    "df = pd.concat(df_list)\n",
    "df.head()\n"
   ]
  },
  {
   "cell_type": "code",
   "execution_count": null,
   "metadata": {},
   "outputs": [
    {
     "ename": "TypeError",
     "evalue": "'NoneType' object is not subscriptable",
     "output_type": "error",
     "traceback": [
      "\u001b[0;31m---------------------------------------------------------------------------\u001b[0m",
      "\u001b[0;31mTypeError\u001b[0m                                 Traceback (most recent call last)",
      "Cell \u001b[0;32mIn[79], line 21\u001b[0m\n\u001b[1;32m     18\u001b[0m config \u001b[38;5;241m=\u001b[39m get_config()\n\u001b[1;32m     20\u001b[0m \u001b[38;5;66;03m#Global constants\u001b[39;00m\n\u001b[0;32m---> 21\u001b[0m API_KEY \u001b[38;5;241m=\u001b[39m \u001b[43mconfig\u001b[49m\u001b[43m[\u001b[49m\u001b[38;5;124;43m'\u001b[39;49m\u001b[38;5;124;43mapi\u001b[39;49m\u001b[38;5;124;43m'\u001b[39;49m\u001b[43m]\u001b[49m[\u001b[38;5;124m'\u001b[39m\u001b[38;5;124mapi_key\u001b[39m\u001b[38;5;124m'\u001b[39m]\n\u001b[1;32m     22\u001b[0m MIKE_TESTER \u001b[38;5;241m=\u001b[39m config[\u001b[38;5;124m'\u001b[39m\u001b[38;5;124mapi\u001b[39m\u001b[38;5;124m'\u001b[39m][\u001b[38;5;124m'\u001b[39m\u001b[38;5;124mmike\u001b[39m\u001b[38;5;124m'\u001b[39m]\n\u001b[1;32m     24\u001b[0m \u001b[38;5;28;01mdef\u001b[39;00m\u001b[38;5;250m \u001b[39m\u001b[38;5;21mget_credentials\u001b[39m(API_KEY):\n\u001b[1;32m     25\u001b[0m     \u001b[38;5;66;03m# Your Alpha Vantage API key\u001b[39;00m\n",
      "\u001b[0;31mTypeError\u001b[0m: 'NoneType' object is not subscriptable"
     ]
    }
   ],
   "source": [
    "import requests\n",
    "import pandas as pd\n",
    "import yaml\n",
    "\n",
    "def get_config():\n",
    "    \"\"\"\n",
    "    parses sensitive data from config\n",
    "    \"\"\"\n",
    "\n",
    "    # Load the YAML file\n",
    "    with open('config.yml', 'r') as file:\n",
    "        config = yaml.safe_load(file)\n",
    "\n",
    "    # Global constants\n",
    "    API_KEY = config['api']['api_key']\n",
    "    MIKE_TESTER = config['api']['mike']\n",
    "\n",
    "config = get_config()\n",
    "\n",
    "#Global constants\n",
    "API_KEY = config['api']['api_key']\n",
    "MIKE_TESTER = config['api']['mike']\n",
    "\n",
    "def get_credentials(API_KEY):\n",
    "    # Your Alpha Vantage API key\n",
    "    av_api_key = API_KEY\n",
    "\n",
    "    # Request for S&P 500 list (this endpoint gives you the entire listing)\n",
    "    url = f\"https://www.alphavantage.co/query?function=LISTING_STATUS&apikey={api_key}\"\n",
    "\n",
    "    # Fetch the data\n",
    "    response = requests.get(url)\n",
    "    data = response.json()\n",
    "\n",
    "data\n",
    "\n",
    "# Convert to DataFrame for easier processing\n",
    "df = pd.DataFrame(data)\n",
    "\n",
    "# Display the data\n",
    "print(df.head())"
   ]
  },
  {
   "cell_type": "code",
   "execution_count": 76,
   "metadata": {},
   "outputs": [],
   "source": [
    "import yaml\n",
    "\n",
    "def get_config():\n",
    "    \"\"\"\n",
    "    parses sensitive data from config\n",
    "    \"\"\"\n",
    "\n",
    "    # Load the YAML file\n",
    "    with open('config.yml', 'r') as file:\n",
    "        config = yaml.safe_load(file)\n",
    "\n",
    "    # Global constants\n",
    "    API_KEY = config['api']['api_key']\n",
    "    MIKE_TESTER = config['api']['mike']\n",
    "\n",
    "config = get_config()"
   ]
  },
  {
   "cell_type": "code",
   "execution_count": 71,
   "metadata": {},
   "outputs": [
    {
     "name": "stdout",
     "output_type": "stream",
     "text": [
      "OL8G1TT77FKMB9PS aj\n"
     ]
    }
   ],
   "source": [
    "import configparser\n",
    "config = configparser.ConfigParser()\n",
    "\n",
    "# Load the config file\n",
    "config.read('config.ini')\n",
    "\n",
    "# Access a particular line (section and option)\n",
    "API_KEY = config['api']['api_key']\n",
    "MIKE_TESTER = config['api']['mike']\n",
    "print(API_KEY, MIKE_TESTER)\n"
   ]
  },
  {
   "cell_type": "code",
   "execution_count": 60,
   "metadata": {},
   "outputs": [
    {
     "name": "stdout",
     "output_type": "stream",
     "text": [
      "OL8G1TT77FKMB9PS aj\n"
     ]
    }
   ],
   "source": [
    "import toml\n",
    "\n",
    "# Load the TOML file\n",
    "config = toml.load('config.toml')\n",
    "\n",
    "# Access a particular line (section and option)\n",
    "API_KEY = config['api']['api_key']\n",
    "MIKE_TESTER = config['api']['mike']\n",
    "print(API_KEY, MIKE_TESTER)\n"
   ]
  },
  {
   "cell_type": "code",
   "execution_count": 66,
   "metadata": {},
   "outputs": [
    {
     "name": "stdout",
     "output_type": "stream",
     "text": [
      "OL8G1TT77FKMB9PS aj\n"
     ]
    }
   ],
   "source": [
    "#config.yaml\n",
    "\n",
    "import yaml\n",
    "\n",
    "# Load the YAML file\n",
    "with open('config.yml', 'r') as file:\n",
    "    config = yaml.safe_load(file)\n",
    "\n",
    "# Access a particular line (section and option)\n",
    "API_KEY = config['api']['api_key']\n",
    "MIKE_TESTER = config['api']['mike']\n",
    "print(API_KEY, MIKE_TESTER)"
   ]
  },
  {
   "cell_type": "code",
   "execution_count": 70,
   "metadata": {},
   "outputs": [
    {
     "name": "stdout",
     "output_type": "stream",
     "text": [
      "OL8G1TT77FKMB9PS aj\n"
     ]
    }
   ],
   "source": [
    "#config.json\n",
    "\n",
    "import json\n",
    "\n",
    "# Load the JSON file\n",
    "with open('config.json', 'r') as file:\n",
    "    config = json.load(file)\n",
    "\n",
    "# Access a particular line (section and option)\n",
    "API_KEY = config['api_key']\n",
    "MIKE_TESTER = config['mike']\n",
    "print(API_KEY, MIKE_TESTER)"
   ]
  },
  {
   "cell_type": "code",
   "execution_count": null,
   "metadata": {},
   "outputs": [],
   "source": []
  }
 ],
 "metadata": {
  "kernelspec": {
   "display_name": "venv",
   "language": "python",
   "name": "python3"
  },
  "language_info": {
   "codemirror_mode": {
    "name": "ipython",
    "version": 3
   },
   "file_extension": ".py",
   "mimetype": "text/x-python",
   "name": "python",
   "nbconvert_exporter": "python",
   "pygments_lexer": "ipython3",
   "version": "3.12.1"
  }
 },
 "nbformat": 4,
 "nbformat_minor": 2
}
