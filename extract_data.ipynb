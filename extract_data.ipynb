{
 "cells": [
  {
   "cell_type": "code",
   "execution_count": 18,
   "metadata": {},
   "outputs": [
    {
     "name": "stdout",
     "output_type": "stream",
     "text": [
      "                               Open      High       Low     Close      Volume  \\\n",
      "Date                                                                            \n",
      "1986-03-13 00:00:00-05:00  0.054485  0.062498  0.054485  0.059827  1031788800   \n",
      "1986-03-14 00:00:00-05:00  0.059827  0.063032  0.059827  0.061963   308160000   \n",
      "1986-03-17 00:00:00-05:00  0.061963  0.063566  0.061963  0.063032   133171200   \n",
      "1986-03-18 00:00:00-05:00  0.063032  0.063566  0.060895  0.061429    67766400   \n",
      "1986-03-19 00:00:00-05:00  0.061429  0.061963  0.059827  0.060361    47894400   \n",
      "\n",
      "                           Dividends  Stock Splits  \n",
      "Date                                                \n",
      "1986-03-13 00:00:00-05:00        0.0           0.0  \n",
      "1986-03-14 00:00:00-05:00        0.0           0.0  \n",
      "1986-03-17 00:00:00-05:00        0.0           0.0  \n",
      "1986-03-18 00:00:00-05:00        0.0           0.0  \n",
      "1986-03-19 00:00:00-05:00        0.0           0.0  \n",
      "<class 'pandas.core.frame.DataFrame'>\n",
      "DatetimeIndex: 9799 entries, 1986-03-13 00:00:00-05:00 to 2025-01-31 00:00:00-05:00\n",
      "Data columns (total 7 columns):\n",
      " #   Column        Non-Null Count  Dtype  \n",
      "---  ------        --------------  -----  \n",
      " 0   Open          9799 non-null   float64\n",
      " 1   High          9799 non-null   float64\n",
      " 2   Low           9799 non-null   float64\n",
      " 3   Close         9799 non-null   float64\n",
      " 4   Volume        9799 non-null   int64  \n",
      " 5   Dividends     9799 non-null   float64\n",
      " 6   Stock Splits  9799 non-null   float64\n",
      "dtypes: float64(6), int64(1)\n",
      "memory usage: 612.4 KB\n",
      "None\n"
     ]
    }
   ],
   "source": [
    "import yfinance as yf\n",
    "import pandas as pd\n",
    "\n",
    "dat = yf.Ticker(\"MSFT\")\n",
    "\n",
    "# Get historical market data\n",
    "df = dat.history(period=\"max\")  # Fetch all available data\n",
    "\n",
    "# Display full dataset snapshot\n",
    "print(df.head())  # Shows first 5 rows\n",
    "print(df.info())  # Gives an overview of the dataset"
   ]
  },
  {
   "cell_type": "code",
   "execution_count": 16,
   "metadata": {},
   "outputs": [
    {
     "ename": "SyntaxError",
     "evalue": "invalid syntax (366976578.py, line 1)",
     "output_type": "error",
     "traceback": [
      "\u001b[0;36m  Cell \u001b[0;32mIn[16], line 1\u001b[0;36m\u001b[0m\n\u001b[0;31m    class yfinance.Industry(key, session=None, proxy=None)\u001b[0m\n\u001b[0m                  ^\u001b[0m\n\u001b[0;31mSyntaxError\u001b[0m\u001b[0;31m:\u001b[0m invalid syntax\n"
     ]
    }
   ],
   "source": [
    "class yfinance.Industry(key, session=None, proxy=None)"
   ]
  },
  {
   "cell_type": "code",
   "execution_count": null,
   "metadata": {},
   "outputs": [],
   "source": []
  }
 ],
 "metadata": {
  "kernelspec": {
   "display_name": "venv",
   "language": "python",
   "name": "python3"
  },
  "language_info": {
   "codemirror_mode": {
    "name": "ipython",
    "version": 3
   },
   "file_extension": ".py",
   "mimetype": "text/x-python",
   "name": "python",
   "nbconvert_exporter": "python",
   "pygments_lexer": "ipython3",
   "version": "3.12.1"
  }
 },
 "nbformat": 4,
 "nbformat_minor": 2
}
